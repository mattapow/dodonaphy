{
    "cells": [
        {
            "cell_type": "code",
            "execution_count": 1,
            "source": [
                "import matplotlib.pyplot as plt\n",
                "from numpy import genfromtxt\n",
                "import seaborn as sns\n",
                "import os\n",
                "import numpy as np\n",
                "from matplotlib import cm\n",
                "from sklearn.cluster import MeanShift"
            ],
            "outputs": [],
            "metadata": {}
        },
        {
            "cell_type": "code",
            "execution_count": 2,
            "source": [
                "experiments_mcmc_nj = [\n",
                "                    \"simple_nj_c5_d2\",\n",
                "                    \"simple_nj_c5_d3\",\n",
                "                    \"simple_nj_c5_d4\",\n",
                "                    \"simple_nj_c5_d5\",\n",
                "                    \"simple_nj_c5_d6\",\n",
                "                    \"simple_nj_c5_d10\"\n",
                "                    ]\n",
                "experiments_mcmc_geo = [\n",
                "                    \"simple_geodesics_c5_d2\",\n",
                "                    \"simple_geodesics_c5_d3\",\n",
                "                    \"simple_geodesics_c5_d4\",\n",
                "                    \"simple_geodesics_c5_d5\",\n",
                "                    \"simple_geodesics_c5_d6\",\n",
                "                    \"simple_geodesics_c5_d10\"\n",
                "                    ]\n",
                "dims = (2, 3, 4, 5, 6, 10)\n",
                "burnin = 600\n",
                "experiments_vi = []\n",
                "dir = \"../../data/T17\"\n"
            ],
            "outputs": [],
            "metadata": {}
        },
        {
            "cell_type": "code",
            "execution_count": 9,
            "source": [
                "fig, ax = plt.subplots(1, 1)\n",
                "ax.set_yscale('log')\n",
                "handles = 3*[None]\n",
                "\n",
                "# plot MrBayes as line\n",
                "fn = \"dna.nex.run1.p\"\n",
                "path = os.path.join(dir, \"mrbayes\", fn)\n",
                "data = genfromtxt(path, skip_header=2)\n",
                "posterior = data[burnin:, 1] + data[burnin:, 2]\n",
                "map = MeanShift().fit(posterior.reshape(-1, 1))\n",
                "# plt.plot([min(dims), max(dims)], [-map.cluster_centers_[0], -map.cluster_centers_[0]], color='k', label='MrBayes')\n",
                "mb_base = map.cluster_centers_[0]\n",
                "\n",
                "for ext in (\"nj\", \"geo\"):\n",
                "    if ext == \"nj\": \n",
                "        experiments_mcmc = experiments_mcmc_nj\n",
                "    else:\n",
                "        experiments_mcmc = experiments_mcmc_geo\n",
                "    paths = [os.path.join(dir, 'mcmc', e, 'mcmc.trees') for e in experiments_mcmc]\n",
                "    for e in experiments_vi:\n",
                "        paths.append(\"%s/vi/%s/vi.trees\" % (dir, e))\n",
                "    n_lines = len(paths)\n",
                "\n",
                "    for count, path in enumerate(paths):\n",
                "        lnL = []\n",
                "        lnPr = []\n",
                "        iter = []\n",
                "        readLine = False\n",
                "        for i, line in enumerate(open(path)):\n",
                "            if line.startswith('tree STATE_'):\n",
                "                _, _, after = line.partition('STATE_')\n",
                "                iter_, _, _ = after.partition(' ')\n",
                "                iter.append(int(iter_))\n",
                "\n",
                "                _, _, after = line.partition('&lnL=')\n",
                "                lnL_, _, _ = after.partition(', ')\n",
                "                lnL.append(float(lnL_))\n",
                "\n",
                "                _, _, after = line.partition('&lnPr=')\n",
                "                lnPr_, _, _ = after.partition(']')\n",
                "                lnPr.append(float(lnPr_))\n",
                "        \n",
                "        posterior = np.array(lnPr) + np.array(lnL)\n",
                "        data = posterior[burnin:].reshape(-1, 1)\n",
                "        map = MeanShift().fit(data)\n",
                "        if ext == \"nj\": \n",
                "            plt.plot(dims[count], (map.cluster_centers_[0]-mb_base)/mb_base, 'o', color='b')\n",
                "            if count == 0:\n",
                "                plt.plot(dims[count], (map.cluster_centers_[0]-mb_base)/mb_base, 'o', color='b', label=\"NJ\")\n",
                "        else:\n",
                "            plt.plot(dims[count], (map.cluster_centers_[0]-mb_base)/mb_base, 'o', color='r')\n",
                "            if count == 0:\n",
                "                plt.plot(dims[count], (map.cluster_centers_[0]-mb_base)/mb_base, 'o', color='r', label=\"Geodesics\")\n",
                "\n",
                "ax.set_xlabel(\"Dimension\")\n",
                "ax.set_ylabel(\"$\\mathregular{(MAP_{mb} - MAP_i)/MAP_{mb}}$\")\n",
                "plt.legend()\n",
                "plt.show()\n"
            ],
            "outputs": [],
            "metadata": {}
        },
        {
            "cell_type": "code",
            "execution_count": null,
            "source": [],
            "outputs": [],
            "metadata": {}
        }
    ],
    "metadata": {
        "orig_nbformat": 4,
        "language_info": {
            "name": "python",
            "version": "3.8.2",
            "mimetype": "text/x-python",
            "codemirror_mode": {
                "name": "ipython",
                "version": 3
            },
            "pygments_lexer": "ipython3",
            "nbconvert_exporter": "python",
            "file_extension": ".py"
        },
        "kernelspec": {
            "name": "python3",
            "display_name": "Python 3.8.2 64-bit ('dodonaphy': conda)"
        },
        "interpreter": {
            "hash": "8c02254480c862d18796b503d6e714c80aa015d4235890a6fa4652033bba3256"
        }
    },
    "nbformat": 4,
    "nbformat_minor": 2
}